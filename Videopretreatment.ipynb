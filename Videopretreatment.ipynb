{
 "cells": [
  {
   "cell_type": "code",
   "execution_count": 6,
   "metadata": {},
   "outputs": [
    {
     "name": "stdout",
     "output_type": "stream",
     "text": [
      "Running on device: cuda:0\n"
     ]
    }
   ],
   "source": [
    "import os\n",
    "import glob\n",
    "import json\n",
    "import torch\n",
    "import cv2\n",
    "from PIL import Image\n",
    "import numpy as np\n",
    "import pandas as pd\n",
    "from tqdm.notebook import tqdm\n",
    "from facenet_pytorch import MTCNN\n",
    "\n",
    "device = 'cuda:0' if torch.cuda.is_available() else 'cpu'\n",
    "print(f'Running on device: {device}')"
   ]
  },
  {
   "cell_type": "code",
   "execution_count": null,
   "metadata": {},
   "outputs": [],
   "source": [
    "# 동영상의 경로 및 라벨의 경로 지정\n",
    "\n",
    "TRAIN_DIR = 'D:/'\n",
    "TMP_DIR = 'D:/DeepFake/'\n",
    "METADATA_PATH = TRAIN_DIR + 'metadata.json'\n",
    "\n",
    "# 동영상 당 생성 Frame 개수 및 사이즈 지정\n",
    "SCALE = 0.25\n",
    "N_FRAMES = 3\n",
    "\n",
    "# MTCNN을 사용하기 위해 facenet_pytorch 설치\n",
    "!pip install ./facenet-pytorch-vggface2/facenet_pytorch-2.2.7-py3-none-any.whl"
   ]
  },
  {
   "cell_type": "code",
   "execution_count": null,
   "metadata": {},
   "outputs": [],
   "source": [
    "# FaceExtractor Class 생성\n",
    "class FaceExtractor:\n",
    "    def __init__(self, detector, n_frames=None, resize=None):\n",
    "\n",
    "        self.detector = detector\n",
    "        self.n_frames = n_frames\n",
    "        self.resize = resize\n",
    "    \n",
    "    def __call__(self, filename, save_dir):\n",
    " \n",
    "        # Create video reader and find length\n",
    "        v_cap = cv2.VideoCapture(filename)\n",
    "        v_len = int(v_cap.get(cv2.CAP_PROP_FRAME_COUNT))\n",
    "\n",
    "        # Pick 'n_frames' evenly spaced frames to sample\n",
    "        if self.n_frames is None:\n",
    "            sample = np.arange(0, v_len)\n",
    "        else:\n",
    "            sample = np.linspace(0, v_len - 1, self.n_frames).astype(int)\n",
    "\n",
    "        # Loop through frames\n",
    "        for j in range(v_len):\n",
    "            success = v_cap.grab()\n",
    "            if j in sample:\n",
    "                # Load frame\n",
    "                success, frame = v_cap.retrieve()\n",
    "                if not success:\n",
    "                    continue\n",
    "                frame = cv2.cvtColor(frame, cv2.COLOR_BGR2RGB)\n",
    "                frame = Image.fromarray(frame)\n",
    "                \n",
    "                # Resize frame to desired size\n",
    "                if self.resize is not None:\n",
    "                    frame = frame.resize([int(d * self.resize) for d in frame.size])\n",
    "\n",
    "                save_path = os.path.join(save_dir, f'{j}.png')\n",
    "\n",
    "                self.detector([frame], save_path=save_path)\n",
    "\n",
    "        v_cap.release()"
   ]
  },
  {
   "cell_type": "code",
   "execution_count": null,
   "metadata": {},
   "outputs": [],
   "source": [
    "# MTCNN 함수를 face_detector에 저장하여 사용\n",
    "face_detector = MTCNN(margin=14, keep_all=True, factor=0.5, device=device).eval()\n",
    "\n",
    "# FaceExtractor Class 정의\n",
    "face_extractor = FaceExtractor(detector=face_detector, n_frames=N_FRAMES, resize=SCALE)\n",
    "\n",
    "# TRAIN_DIR에 저장되어 있는 동영상 path\n",
    "all_train_videos = glob.glob(os.path.join(TRAIN_DIR, '*.mp4'))\n",
    "\n",
    "\n",
    "with torch.no_grad():\n",
    "    for path in tqdm(all_train_videos):\n",
    "        file_name = path.split('/')[-1]\n",
    "\n",
    "        save_dir = os.path.join(TMP_DIR, file_name.split(\".\")[0])\n",
    "\n",
    "        if not os.path.exists(save_dir):\n",
    "            os.makedirs(save_dir)\n",
    "\n",
    "        # Detect all faces appear in the video and save them.\n",
    "        face_extractor(path, save_dir)"
   ]
  }
 ],
 "metadata": {
  "kernelspec": {
   "display_name": "Python 3",
   "language": "python",
   "name": "python3"
  },
  "language_info": {
   "codemirror_mode": {
    "name": "ipython",
    "version": 3
   },
   "file_extension": ".py",
   "mimetype": "text/x-python",
   "name": "python",
   "nbconvert_exporter": "python",
   "pygments_lexer": "ipython3",
   "version": "3.7.4"
  }
 },
 "nbformat": 4,
 "nbformat_minor": 4
}
